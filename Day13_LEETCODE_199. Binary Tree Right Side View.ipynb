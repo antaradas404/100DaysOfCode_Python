{
 "cells": [
  {
   "cell_type": "code",
   "execution_count": null,
   "id": "9e4d62b5-28b0-44de-816d-0dfe4b97a900",
   "metadata": {},
   "outputs": [],
   "source": [
    "# Definition for a binary tree node.\n",
    "# class TreeNode(object):\n",
    "#     def __init__(self, val=0, left=None, right=None):\n",
    "#         self.val = val\n",
    "#         self.left = left\n",
    "#         self.right = right\n",
    "class Solution(object):\n",
    "    def rightSideView(self, root):\n",
    "        \"\"\"\n",
    "        :type root: TreeNode\n",
    "        :rtype: List[int]\n",
    "        \"\"\"\n",
    "        rightvalues=[]\n",
    "        q = collections.deque([root])\n",
    "        #Breadth-First Search  \n",
    "        while q:\n",
    "            # for each level\n",
    "            rightmost= None\n",
    "            qlen= len(q)\n",
    "            for i in range(qlen):\n",
    "                node= q.popleft()\n",
    "                if node:\n",
    "                    rightmost=node\n",
    "                    q.append(node.left)\n",
    "                    q.append(node.right)\n",
    "            if rightmost:\n",
    "                rightvalues.append(rightmost.val)\n",
    "        return  rightvalues      \n"
   ]
  }
 ],
 "metadata": {
  "kernelspec": {
   "display_name": "Python 3 (ipykernel)",
   "language": "python",
   "name": "python3"
  },
  "language_info": {
   "codemirror_mode": {
    "name": "ipython",
    "version": 3
   },
   "file_extension": ".py",
   "mimetype": "text/x-python",
   "name": "python",
   "nbconvert_exporter": "python",
   "pygments_lexer": "ipython3",
   "version": "3.9.13"
  }
 },
 "nbformat": 4,
 "nbformat_minor": 5
}
