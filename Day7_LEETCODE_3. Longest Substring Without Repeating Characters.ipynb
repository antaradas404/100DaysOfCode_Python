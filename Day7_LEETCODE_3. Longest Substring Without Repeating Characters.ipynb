{
 "cells": [
  {
   "cell_type": "code",
   "execution_count": 1,
   "id": "2b76e377-52de-4968-8023-cd3f0250105e",
   "metadata": {},
   "outputs": [
    {
     "data": {
      "text/plain": [
       "3"
      ]
     },
     "execution_count": 1,
     "metadata": {},
     "output_type": "execute_result"
    }
   ],
   "source": [
    "class Solution(object):\n",
    "    def lengthOfLongestSubstring(self, s):\n",
    "        \"\"\"\n",
    "        :type s: str\n",
    "        :rtype: int\n",
    "        \"\"\"\n",
    "        if len(s) >0:\n",
    "                \n",
    "            longestsubstr=s[0]\n",
    "            substr=s[0]\n",
    "            i=1\n",
    "           \n",
    "            while i < len(s)  :  \n",
    "                if s[i] in substr:\n",
    "                    if (len(longestsubstr)< len(substr)):\n",
    "                        longestsubstr=substr\n",
    "                    j=s.find(s[i])\n",
    "                    s= s[j+1:]\n",
    "                    i=1\n",
    "                    \n",
    "                    if len(s)> 0:\n",
    "                        substr=s[0] \n",
    "                else:\n",
    "                    substr+=s[i]                    \n",
    "                    i+=1\n",
    "            \n",
    "            # for cases when  length of s is 2\n",
    "            if (len(longestsubstr)< len(substr)):\n",
    "                longestsubstr=substr\n",
    "        # for cases when  s is an empty string   \n",
    "        else:  longestsubstr=\"\"   \n",
    "        return len(longestsubstr)\n",
    "        \n",
    "solution = Solution()            \n",
    "solution.lengthOfLongestSubstring('pwwkew')"
   ]
  },
  {
   "cell_type": "code",
   "execution_count": null,
   "id": "a5700878-9a60-4505-a2ae-d94902899583",
   "metadata": {},
   "outputs": [],
   "source": []
  }
 ],
 "metadata": {
  "kernelspec": {
   "display_name": "Python 3 (ipykernel)",
   "language": "python",
   "name": "python3"
  },
  "language_info": {
   "codemirror_mode": {
    "name": "ipython",
    "version": 3
   },
   "file_extension": ".py",
   "mimetype": "text/x-python",
   "name": "python",
   "nbconvert_exporter": "python",
   "pygments_lexer": "ipython3",
   "version": "3.9.13"
  }
 },
 "nbformat": 4,
 "nbformat_minor": 5
}
