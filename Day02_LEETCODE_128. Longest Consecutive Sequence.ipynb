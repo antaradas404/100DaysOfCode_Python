{
 "cells": [
  {
   "cell_type": "code",
   "execution_count": 1,
   "id": "ce2a6e2a-230e-4263-9f18-2018198337be",
   "metadata": {},
   "outputs": [
    {
     "data": {
      "text/plain": [
       "9"
      ]
     },
     "execution_count": 1,
     "metadata": {},
     "output_type": "execute_result"
    }
   ],
   "source": [
    "class Solution(object):\n",
    "    def longestConsecutive(self, nums):\n",
    "        \"\"\"\n",
    "        :type nums: List[int]\n",
    "        :rtype: int\n",
    "        \"\"\"\n",
    "        nums_sorted= sorted(nums, reverse=False)\n",
    "        countflag=1\n",
    "        maxcount=1\n",
    "        nums_sorted_len= len(nums_sorted)\n",
    "        \n",
    "        for i in range(nums_sorted_len-1):            \n",
    "            #When consecutive elements are in sequence\n",
    "            if nums_sorted[i] == nums_sorted[i+1]-1:\n",
    "                countflag+=1\n",
    "                if maxcount < countflag:\n",
    "                    maxcount=countflag\n",
    "            #When consecutive elements are not in sequence but are the same number- ignore\n",
    "            elif nums_sorted[i] == nums_sorted[i+1]: \n",
    "                pass\n",
    "            #When consecutive elements are not in sequence\n",
    "            else:  \n",
    "                if maxcount >= countflag:\n",
    "                    countflag=1 #reset flag to 1\n",
    "                elif maxcount < countflag:\n",
    "                    maxcount=countflag # updating maxcount to the max value\n",
    "                    countflag=1 #reset flag to 1  \n",
    "        if  maxcount==1 and nums_sorted_len==0: maxcount=0 \n",
    "        elif maxcount==1 and nums_sorted_len==1: maxcount=1    \n",
    "        return maxcount\n",
    "solution = Solution()            \n",
    "solution.longestConsecutive([0,3,7,2,5,8,4,6,0,1])"
   ]
  },
  {
   "cell_type": "code",
   "execution_count": null,
   "id": "ea690369-6088-4d15-8d17-c023ec5b8e78",
   "metadata": {},
   "outputs": [],
   "source": []
  }
 ],
 "metadata": {
  "kernelspec": {
   "display_name": "Python 3 (ipykernel)",
   "language": "python",
   "name": "python3"
  },
  "language_info": {
   "codemirror_mode": {
    "name": "ipython",
    "version": 3
   },
   "file_extension": ".py",
   "mimetype": "text/x-python",
   "name": "python",
   "nbconvert_exporter": "python",
   "pygments_lexer": "ipython3",
   "version": "3.9.13"
  }
 },
 "nbformat": 4,
 "nbformat_minor": 5
}
