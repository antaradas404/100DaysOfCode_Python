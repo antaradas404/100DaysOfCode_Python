{
 "cells": [
  {
   "cell_type": "code",
   "execution_count": null,
   "id": "418382db-5943-4449-b05c-260142807b3c",
   "metadata": {},
   "outputs": [],
   "source": [
    "# Definition for singly-linked list.\n",
    "# class ListNode:\n",
    "#     def __init__(self, val=0, next=None):\n",
    "#         self.val = val\n",
    "#         self.next = next\n",
    "class Solution:\n",
    "    def partition(self, head: Optional[ListNode], x: int) -> Optional[ListNode]:\n",
    "        # To create two dummy lists before and after , \n",
    "        # beforelist has nodes of value < x, and afterlist has nodes of value greater than or = x\n",
    "        # before and after lists are merged later\n",
    "\n",
    "        # Creating dummy lists\n",
    "        # beforelist and afterlist are pointers used to create two lists\n",
    "        # beforelist_head and afterlist_head are used to save the heads of the two lists\n",
    "        beforelist = beforelist_head= ListNode(0)\n",
    "        afterlist = afterlist_head= ListNode(0)\n",
    "\n",
    "        #Traversing the original list\n",
    "\n",
    "        while head:\n",
    "            if head.val < x:\n",
    "                beforelist.next=head\n",
    "                beforelist= beforelist.next\n",
    "\n",
    "            else :\n",
    "                afterlist.next=head\n",
    "                afterlist=afterlist.next\n",
    "        \n",
    "            head=head.next\n",
    "\n",
    "        afterlist.next= None\n",
    "        # Combining the lists\n",
    "        beforelist.next= afterlist_head.next\n",
    "\n",
    "        return beforelist_head.next"
   ]
  }
 ],
 "metadata": {
  "kernelspec": {
   "display_name": "Python 3 (ipykernel)",
   "language": "python",
   "name": "python3"
  },
  "language_info": {
   "codemirror_mode": {
    "name": "ipython",
    "version": 3
   },
   "file_extension": ".py",
   "mimetype": "text/x-python",
   "name": "python",
   "nbconvert_exporter": "python",
   "pygments_lexer": "ipython3",
   "version": "3.9.13"
  }
 },
 "nbformat": 4,
 "nbformat_minor": 5
}
