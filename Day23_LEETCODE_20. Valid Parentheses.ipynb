{
 "cells": [
  {
   "cell_type": "code",
   "execution_count": null,
   "id": "418382db-5943-4449-b05c-260142807b3c",
   "metadata": {},
   "outputs": [],
   "source": [
    "class Solution:\n",
    "    def isValid(self, s: str) -> bool:\n",
    "        # The stack to keep track of opening brackets.\n",
    "        stack = []\n",
    "        bracketmap = { ']' : '[' ,  ')': '('  , '}' : '{' }\n",
    "        for i in s:\n",
    "            # For closing brackets\n",
    "            if i in bracketmap:\n",
    "                \n",
    "                # Assigning dummy value of # if stack is empty\n",
    "                topbracket= stack.pop() if stack else '#'  \n",
    "                \n",
    "                # Checking if the opening bracket patterns match\n",
    "                if topbracket != bracketmap[i]:\n",
    "                    return False\n",
    "            \n",
    "            # For opening brackets\n",
    "            else :\n",
    "                stack.append(i)\n",
    "        \n",
    "        return not stack "
   ]
  }
 ],
 "metadata": {
  "kernelspec": {
   "display_name": "Python 3 (ipykernel)",
   "language": "python",
   "name": "python3"
  },
  "language_info": {
   "codemirror_mode": {
    "name": "ipython",
    "version": 3
   },
   "file_extension": ".py",
   "mimetype": "text/x-python",
   "name": "python",
   "nbconvert_exporter": "python",
   "pygments_lexer": "ipython3",
   "version": "3.9.13"
  }
 },
 "nbformat": 4,
 "nbformat_minor": 5
}
