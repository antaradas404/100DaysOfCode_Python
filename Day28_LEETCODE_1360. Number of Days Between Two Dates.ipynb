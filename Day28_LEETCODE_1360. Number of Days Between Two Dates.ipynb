{
 "cells": [
  {
   "cell_type": "code",
   "execution_count": null,
   "id": "418382db-5943-4449-b05c-260142807b3c",
   "metadata": {},
   "outputs": [],
   "source": [
    "class Solution:\n",
    "    def daysBetweenDates(self, date1: str, date2: str) -> int:\n",
    "        from datetime import datetime\n",
    "        format_str = '%Y-%m-%d'\n",
    "        date1_obj = datetime.strptime(date1, format_str)\n",
    "        date2_obj = datetime.strptime(date2, format_str)\n",
    "    \n",
    "        delta = abs(date2_obj - date1_obj)\n",
    "        return delta.days"
   ]
  }
 ],
 "metadata": {
  "kernelspec": {
   "display_name": "Python 3 (ipykernel)",
   "language": "python",
   "name": "python3"
  },
  "language_info": {
   "codemirror_mode": {
    "name": "ipython",
    "version": 3
   },
   "file_extension": ".py",
   "mimetype": "text/x-python",
   "name": "python",
   "nbconvert_exporter": "python",
   "pygments_lexer": "ipython3",
   "version": "3.9.13"
  }
 },
 "nbformat": 4,
 "nbformat_minor": 5
}
