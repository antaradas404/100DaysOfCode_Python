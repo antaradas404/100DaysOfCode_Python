{
 "cells": [
  {
   "cell_type": "code",
   "execution_count": null,
   "id": "418382db-5943-4449-b05c-260142807b3c",
   "metadata": {},
   "outputs": [],
   "source": [
    "# Definition for singly-linked list.\n",
    "# class ListNode(object):\n",
    "#     def __init__(self, val=0, next=None):\n",
    "#         self.val = val\n",
    "#         self.next = next\n",
    "# Reverse Sublist in Linked List\n",
    "class Solution(object):\n",
    "    def reverseBetween(self, head, left, right):\n",
    "        \"\"\"\n",
    "        :type head: ListNode\n",
    "        :type left: int\n",
    "        :type right: int\n",
    "        :rtype: ListNode\n",
    "        \"\"\"\n",
    "        if(left==right):\n",
    "            return head\n",
    "        reversedl=[]\n",
    "        list1=[]\n",
    "        node=head\n",
    "        # Appening all values to list1\n",
    "        while node != None:\n",
    "            list1.append(node.val)\n",
    "            node=node.next\n",
    "        #Reversing from left to right\n",
    "        l=left-1\n",
    "        reversedl= list1[l:right]\n",
    "        reversedl.reverse()\n",
    "        list1[l:right]=reversedl\n",
    "\n",
    "        head = ListNode(list1[0])  # Create the first node with the first element of the list\n",
    "        current = head  # Initialize a pointer to keep track of the current node\n",
    "        \n",
    "        # Iterate over the remaining elements of the list starting from the second element\n",
    "        for i in list1:\n",
    "            node = ListNode(i)  # Create a new node for the current element\n",
    "            current.next = node  # Link the current node with the new node\n",
    "            current = node  # Move the pointer to the new node\n",
    "        \n",
    "        return head.next  # Return the head of the linked list\n"
   ]
  }
 ],
 "metadata": {
  "kernelspec": {
   "display_name": "Python 3 (ipykernel)",
   "language": "python",
   "name": "python3"
  },
  "language_info": {
   "codemirror_mode": {
    "name": "ipython",
    "version": 3
   },
   "file_extension": ".py",
   "mimetype": "text/x-python",
   "name": "python",
   "nbconvert_exporter": "python",
   "pygments_lexer": "ipython3",
   "version": "3.9.13"
  }
 },
 "nbformat": 4,
 "nbformat_minor": 5
}
