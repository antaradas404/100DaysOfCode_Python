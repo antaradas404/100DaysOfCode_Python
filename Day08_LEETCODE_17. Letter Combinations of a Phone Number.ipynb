{
 "cells": [
  {
   "cell_type": "code",
   "execution_count": 4,
   "id": "2b76e377-52de-4968-8023-cd3f0250105e",
   "metadata": {},
   "outputs": [
    {
     "data": {
      "text/plain": [
       "['adg',\n",
       " 'adh',\n",
       " 'adi',\n",
       " 'aeg',\n",
       " 'aeh',\n",
       " 'aei',\n",
       " 'afg',\n",
       " 'afh',\n",
       " 'afi',\n",
       " 'bdg',\n",
       " 'bdh',\n",
       " 'bdi',\n",
       " 'beg',\n",
       " 'beh',\n",
       " 'bei',\n",
       " 'bfg',\n",
       " 'bfh',\n",
       " 'bfi',\n",
       " 'cdg',\n",
       " 'cdh',\n",
       " 'cdi',\n",
       " 'ceg',\n",
       " 'ceh',\n",
       " 'cei',\n",
       " 'cfg',\n",
       " 'cfh',\n",
       " 'cfi']"
      ]
     },
     "execution_count": 4,
     "metadata": {},
     "output_type": "execute_result"
    }
   ],
   "source": [
    "class Solution(object):\n",
    "    def letterCombinations(self, digits):\n",
    "        \"\"\"\n",
    "        :type digits: str\n",
    "        :rtype: List[str]\n",
    "        \"\"\"\n",
    "        dict={ '2':['a','b','c'] , '3': ['d','e','f'], '4': ['g', 'h', 'i'], '5':['j','k','l'], '6': ['m','n','o'], \n",
    "               '7': ['p','q','r','s'], '8': ['t','u','v'], '9':['w','x','y','z']}\n",
    "        combinations=[]\n",
    "        \n",
    "        if len(digits) == 0:\n",
    "            return []\n",
    "        for i in digits:\n",
    "            if len(combinations)==0:\n",
    "                combinations=dict[i]\n",
    "            else:\n",
    "                dicttemp=[]\n",
    "                for j in combinations:\n",
    "                    for k in dict[i]:\n",
    "                        dicttemp.append(j+k)\n",
    "                combinations= dicttemp\n",
    "        return combinations\n",
    "             \n",
    "solution = Solution()            \n",
    "solution.letterCombinations('234')"
   ]
  },
  {
   "cell_type": "code",
   "execution_count": null,
   "id": "a5700878-9a60-4505-a2ae-d94902899583",
   "metadata": {},
   "outputs": [],
   "source": []
  }
 ],
 "metadata": {
  "kernelspec": {
   "display_name": "Python 3 (ipykernel)",
   "language": "python",
   "name": "python3"
  },
  "language_info": {
   "codemirror_mode": {
    "name": "ipython",
    "version": 3
   },
   "file_extension": ".py",
   "mimetype": "text/x-python",
   "name": "python",
   "nbconvert_exporter": "python",
   "pygments_lexer": "ipython3",
   "version": "3.9.13"
  }
 },
 "nbformat": 4,
 "nbformat_minor": 5
}
