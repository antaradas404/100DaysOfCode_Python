{
 "cells": [
  {
   "cell_type": "code",
   "execution_count": 2,
   "id": "e5745e2c-ac15-4908-9b4e-f70865a06126",
   "metadata": {},
   "outputs": [
    {
     "name": "stdout",
     "output_type": "stream",
     "text": [
      "Longest Palindromic Substring(s):\n",
      "bab\n"
     ]
    },
    {
     "data": {
      "text/plain": [
       "'bab'"
      ]
     },
     "execution_count": 2,
     "metadata": {},
     "output_type": "execute_result"
    }
   ],
   "source": [
    "class Solution(object):\n",
    "    def longestPalindrome(self, s):\n",
    "        \"\"\"\n",
    "        :type s: str\n",
    "        :rtype: str\n",
    "        \"\"\"   \n",
    "        listpal=[]\n",
    "        strlen=len(s)\n",
    "        i=strlen  # i denotes the length of the temp string to check\n",
    "        flag=0 # To check if any palindrome was found      \n",
    "        while i>=1: \n",
    "            j=0 # position from where search starts during each iteration\n",
    "            while i+j <= strlen:\n",
    "                tempstr=\"\"\n",
    "                tempstr=s[j:i+j]\n",
    "                #can add len(tempstr) >1 to ensure single words are not returned as palindromes\n",
    "                if tempstr == tempstr[::-1]  :\n",
    "                    listpal.append(tempstr)\n",
    "                    flag+=1                    \n",
    "                j+=1\n",
    "                if flag>=1 : \n",
    "                    # this flag can be removed if multiple strings of same length are required as output  \n",
    "                    break\n",
    "            i-=1\n",
    "            if flag>=1 :   \n",
    "                    break\n",
    "        if len( listpal) > 0:\n",
    "            print(\"Longest Palindromic Substring(s):\")\n",
    "            for i in listpal:\n",
    "                  print ( i )\n",
    "                  return(i) \n",
    "        else:\n",
    "            print(\"The string does not have any palindromes\")     \n",
    "            \n",
    "solution = Solution()            \n",
    "solution.longestPalindrome(\"babad\")"
   ]
  },
  {
   "cell_type": "code",
   "execution_count": null,
   "id": "00cc9003-fe5a-49e8-9d02-fadd4db1b2e3",
   "metadata": {},
   "outputs": [],
   "source": []
  }
 ],
 "metadata": {
  "kernelspec": {
   "display_name": "Python 3 (ipykernel)",
   "language": "python",
   "name": "python3"
  },
  "language_info": {
   "codemirror_mode": {
    "name": "ipython",
    "version": 3
   },
   "file_extension": ".py",
   "mimetype": "text/x-python",
   "name": "python",
   "nbconvert_exporter": "python",
   "pygments_lexer": "ipython3",
   "version": "3.9.13"
  }
 },
 "nbformat": 4,
 "nbformat_minor": 5
}
