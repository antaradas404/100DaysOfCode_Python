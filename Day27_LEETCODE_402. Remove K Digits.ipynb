{
 "cells": [
  {
   "cell_type": "code",
   "execution_count": null,
   "id": "418382db-5943-4449-b05c-260142807b3c",
   "metadata": {},
   "outputs": [],
   "source": [
    "class Solution:\n",
    "    def removeKdigits(self, num: str, k: int) -> str:\n",
    "        # Greedy algorithm\n",
    "\n",
    "        # Start from left or 0th index of the string\n",
    "        # Trying to ensure that the new stack has elements in ascending order from left to right, \n",
    "        # to reduce the overall value of the final number\n",
    "       \n",
    "        # 1. Add digit to a stack if current digit is greater than the last existing digit in stack\n",
    "\n",
    "        # 2. If current digit is smaller than the last existing digit in stack, keep popping stack elements until \n",
    "        #    current digit is greater than the last element in stack, stack is not empty and k value condition is not met, \n",
    "        # 3. and then add the current digit\n",
    "        \n",
    "        if k >= len(num):\n",
    "            return \"0\"\n",
    "            \n",
    "        stack = []\n",
    "        for i in num:\n",
    "            while stack and k > 0 and stack[-1] > i: # 2\n",
    "                k-=1\n",
    "                stack.pop()\n",
    "\n",
    "            stack.append(i) # 1, 3\n",
    "\n",
    "        # For situations when all digits are in ascending order, nothing may be removed, or when k > 0,\n",
    "        # for such situations we can remove last k characters\n",
    "        # lstrip to remove any leading zeros\n",
    "        \n",
    "        stack= stack[  : len(stack) - k   ] \n",
    "        strstack= \"\".join(stack).lstrip(\"0\")\n",
    "\n",
    "        return strstack if  strstack else \"0\"\n"
   ]
  }
 ],
 "metadata": {
  "kernelspec": {
   "display_name": "Python 3 (ipykernel)",
   "language": "python",
   "name": "python3"
  },
  "language_info": {
   "codemirror_mode": {
    "name": "ipython",
    "version": 3
   },
   "file_extension": ".py",
   "mimetype": "text/x-python",
   "name": "python",
   "nbconvert_exporter": "python",
   "pygments_lexer": "ipython3",
   "version": "3.9.13"
  }
 },
 "nbformat": 4,
 "nbformat_minor": 5
}
