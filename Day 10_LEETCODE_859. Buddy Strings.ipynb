{
 "cells": [
  {
   "cell_type": "code",
   "execution_count": 1,
   "id": "2b76e377-52de-4968-8023-cd3f0250105e",
   "metadata": {},
   "outputs": [
    {
     "name": "stdout",
     "output_type": "stream",
     "text": [
      "True\n"
     ]
    }
   ],
   "source": [
    "class Solution(object):\n",
    "    def buddyStrings(self, s, goal):\n",
    "        \"\"\"\n",
    "        :type s: str\n",
    "        :type goal: str\n",
    "        :rtype: bool\n",
    "        \"\"\"\n",
    "        # adding the constraint:\n",
    "        if len(s) > 2*(10**4) or len(goal) > 2*(10**4) or len(s) <1 or len(goal) <1 :  \n",
    "            return False\n",
    "\n",
    "        # s & goal cannot be same after swapping if length is not equal:\n",
    "        elif len(s) != len(goal):  \n",
    "            return False\n",
    "\n",
    "        # if length is equal, should have atleast 1 character that appears more than once\n",
    "        elif s == goal:\n",
    "            seen = set()\n",
    "            for char in s:\n",
    "                if char in seen: \n",
    "                    return True\n",
    "                seen.add(char)\n",
    "            return False\n",
    "\n",
    "        # cannot swap 2 characters if string length is 1\n",
    "        elif len(s)==1 or len(goal)==1:  \n",
    "            return False\n",
    "\n",
    "        # if string length is 2, reverse string and check if they are equal\n",
    "        elif len(s)==2 and len(goal)==2:\n",
    "            if s[::-1] == goal: \n",
    "                return True\n",
    "            else : \n",
    "                return False\n",
    "\n",
    "        # checking if there are only two indices where s and goal have different characters \n",
    "        # & if swapping characters at those 2 indices in s make s==goal\n",
    "        elif len(s)>2 and len(goal)>2:\n",
    "            diff=[]\n",
    "            for i in range(0,len(s)):\n",
    "                if s[i] != goal[i]:\n",
    "                    diff.append(i)\n",
    "            if len(diff) != 2:  \n",
    "                return False\n",
    "            elif len(diff) == 2 : \n",
    "                return s[diff[0]] == goal[diff[1]] and s[diff[1]] == goal[diff[0]]\n",
    "        \n",
    "        return False\n",
    "       \n",
    "solution = Solution()    \n",
    "result = solution.buddyStrings(\"ab\", \"ba\")\n",
    "print(result)"
   ]
  },
  {
   "cell_type": "code",
   "execution_count": null,
   "id": "a5700878-9a60-4505-a2ae-d94902899583",
   "metadata": {},
   "outputs": [],
   "source": []
  }
 ],
 "metadata": {
  "kernelspec": {
   "display_name": "Python 3 (ipykernel)",
   "language": "python",
   "name": "python3"
  },
  "language_info": {
   "codemirror_mode": {
    "name": "ipython",
    "version": 3
   },
   "file_extension": ".py",
   "mimetype": "text/x-python",
   "name": "python",
   "nbconvert_exporter": "python",
   "pygments_lexer": "ipython3",
   "version": "3.9.13"
  }
 },
 "nbformat": 4,
 "nbformat_minor": 5
}
