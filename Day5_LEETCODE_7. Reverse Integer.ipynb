{
 "cells": [
  {
   "cell_type": "code",
   "execution_count": 2,
   "id": "2b76e377-52de-4968-8023-cd3f0250105e",
   "metadata": {},
   "outputs": [
    {
     "data": {
      "text/plain": [
       "-321"
      ]
     },
     "execution_count": 2,
     "metadata": {},
     "output_type": "execute_result"
    }
   ],
   "source": [
    "class Solution(object):\n",
    "    def reverse(self, x):\n",
    "        \"\"\"\n",
    "        :type x: int\n",
    "        :rtype: int\n",
    "        \"\"\"\n",
    "        xreversed=0\n",
    "        xtemp=abs(x)\n",
    "        xlen=len(str(xtemp))\n",
    "        for i in range(xlen): \n",
    "            xreversed=xreversed+(xtemp%10 )* (10**(xlen-i-1))\n",
    "            xtemp=xtemp//10\n",
    "        if x==0:\n",
    "            xreversed=0\n",
    "        elif x<0:\n",
    "            xreversed=xreversed*(-1) \n",
    "            \n",
    "        if x < (-2**31) or x > ((2**31)-1):\n",
    "            xreversed=0\n",
    "        elif xreversed < (-2**31) or xreversed > ((2**31)-1):\n",
    "            xreversed=0\n",
    "        return xreversed\n",
    "\n",
    "solution = Solution()            \n",
    "solution.reverse(-123)"
   ]
  },
  {
   "cell_type": "code",
   "execution_count": null,
   "id": "a5700878-9a60-4505-a2ae-d94902899583",
   "metadata": {},
   "outputs": [],
   "source": []
  }
 ],
 "metadata": {
  "kernelspec": {
   "display_name": "Python 3 (ipykernel)",
   "language": "python",
   "name": "python3"
  },
  "language_info": {
   "codemirror_mode": {
    "name": "ipython",
    "version": 3
   },
   "file_extension": ".py",
   "mimetype": "text/x-python",
   "name": "python",
   "nbconvert_exporter": "python",
   "pygments_lexer": "ipython3",
   "version": "3.9.13"
  }
 },
 "nbformat": 4,
 "nbformat_minor": 5
}
