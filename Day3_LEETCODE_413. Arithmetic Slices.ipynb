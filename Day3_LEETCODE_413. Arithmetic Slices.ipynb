{
 "cells": [
  {
   "cell_type": "code",
   "execution_count": 1,
   "id": "e6e56ccf-2263-4edc-8f0e-3f273e3e7a71",
   "metadata": {},
   "outputs": [
    {
     "data": {
      "text/plain": [
       "3"
      ]
     },
     "execution_count": 1,
     "metadata": {},
     "output_type": "execute_result"
    }
   ],
   "source": [
    "class Solution(object):\n",
    "    def numberOfArithmeticSlices(self, nums):\n",
    "        \"\"\"\n",
    "        :type nums: List[int]\n",
    "        :rtype: int\n",
    "        \"\"\"\n",
    "        subarrcount=0\n",
    "        nums_len= len(nums)\n",
    "        if nums_len>=3:\n",
    "            for i in range(nums_len-1):                \n",
    "                elemcount=2         \n",
    "                diff=nums[i] - nums[i+1]\n",
    "                j=i+2\n",
    "                while j < nums_len:                  \n",
    "                    if nums[j-1] - nums[j] ==diff: \n",
    "                        elemcount+=1\n",
    "                        if elemcount>=3: subarrcount+=1\n",
    "                        j+=1\n",
    "                    else: break                              \n",
    "        elif nums_len<3:\n",
    "            subarrcount=0\n",
    "        return subarrcount\n",
    "solution = Solution()            \n",
    "solution.numberOfArithmeticSlices([1,2,3,4])"
   ]
  },
  {
   "cell_type": "code",
   "execution_count": null,
   "id": "eb9a4b72-c5b0-4455-b8da-edc2f0211177",
   "metadata": {},
   "outputs": [],
   "source": []
  }
 ],
 "metadata": {
  "kernelspec": {
   "display_name": "Python 3 (ipykernel)",
   "language": "python",
   "name": "python3"
  },
  "language_info": {
   "codemirror_mode": {
    "name": "ipython",
    "version": 3
   },
   "file_extension": ".py",
   "mimetype": "text/x-python",
   "name": "python",
   "nbconvert_exporter": "python",
   "pygments_lexer": "ipython3",
   "version": "3.9.13"
  }
 },
 "nbformat": 4,
 "nbformat_minor": 5
}
