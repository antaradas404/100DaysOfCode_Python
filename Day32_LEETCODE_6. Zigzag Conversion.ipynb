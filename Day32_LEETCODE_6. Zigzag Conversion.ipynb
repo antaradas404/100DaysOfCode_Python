{
 "cells": [
  {
   "cell_type": "code",
   "execution_count": null,
   "id": "418382db-5943-4449-b05c-260142807b3c",
   "metadata": {},
   "outputs": [],
   "source": [
    "class Solution:\n",
    "    def convert(self, s: str, numRows: int) -> str:\n",
    "    # We need to divide the pattern into multiple sections, where each section has 1 complete column and few diagonals \n",
    "    # Number of rows: numRows , Number of columns : numCols\n",
    "\n",
    "    ### Number of Columns in a section: \n",
    "    # Each section will have (numRows -1) columns\n",
    "    \n",
    "    ### Total characters in a section/ increment value : \n",
    "    # The first column will have 'numRows' number of characters as expected\n",
    "    # The diagonals will have (numRows-1  -1) characters- as there are total (numRows-1) columns in the section    \n",
    "    # and we exclude the first column by placing an addtioanl -1\n",
    "    # So Total characters in a section= 2* (numRows -1)  .. (numRows + numRows -1 -1)\n",
    "\n",
    "        if numRows==1: return s\n",
    "        result=\"\"      \n",
    "        increment = 2 * (numRows-1) # Total characters in a section calculated\n",
    "        \n",
    "        for r in range(numRows):          \n",
    "            for i in range (r , len(s), increment):\n",
    "                \n",
    "                # To add values in the first column of each section\n",
    "                result += s[i]\n",
    "                \n",
    "                # To add values in the diagonals of each section                \n",
    "                # Only for rows between first and last row:\n",
    "                if (r > 0 and r < numRows -1  and ( i + increment - 2*r )< len(s) ):\n",
    "                    result += s[i + increment - 2*r]\n",
    "                    # i + increment : element in first col of next section, in the same row\n",
    "                    # i + increment - 2*r  : element in diagonal of the current section\n",
    "                    \n",
    "                    # - 2*r was done because as we go down each row, in each section, \n",
    "                    # the diffrence between the element in the first column and the diagonal decreases by 2\n",
    "                    # not applicable for the first and last rows\n",
    "        \n",
    "        return result\n"
   ]
  }
 ],
 "metadata": {
  "kernelspec": {
   "display_name": "Python 3 (ipykernel)",
   "language": "python",
   "name": "python3"
  },
  "language_info": {
   "codemirror_mode": {
    "name": "ipython",
    "version": 3
   },
   "file_extension": ".py",
   "mimetype": "text/x-python",
   "name": "python",
   "nbconvert_exporter": "python",
   "pygments_lexer": "ipython3",
   "version": "3.9.13"
  }
 },
 "nbformat": 4,
 "nbformat_minor": 5
}
