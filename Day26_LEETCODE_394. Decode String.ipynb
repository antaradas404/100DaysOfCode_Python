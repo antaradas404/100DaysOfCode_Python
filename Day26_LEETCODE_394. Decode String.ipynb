{
 "cells": [
  {
   "cell_type": "code",
   "execution_count": null,
   "id": "418382db-5943-4449-b05c-260142807b3c",
   "metadata": {},
   "outputs": [],
   "source": [
    "class Solution:\n",
    "    def decodeString(self, s: str) -> str:\n",
    "        # 1. Keep adding to stack untill you get ]\n",
    "        # 2. When ] is found, dont add ] to stack, instead pop all characters until [ is found, pop [ too\n",
    "        # 3. Then keep popping till we have digits, keep adding to k\n",
    "        # 4. Multiply digit * string popped , and add this new string to stack\n",
    "\n",
    "        stack=[]\n",
    "        for i in range(len(s)):\n",
    "            if s[i] != ']':\n",
    "                stack.append(s[i]) # 1\n",
    "            else:\n",
    "                substr=''\n",
    "                while stack and stack[-1]!= '[': # 2\n",
    "                    substr=stack.pop() + substr\n",
    "                \n",
    "                stack.pop() # 2. Popping [\n",
    "                k =''\n",
    "                while stack and stack[-1].isdigit(): # 3\n",
    "                    k = stack.pop() + k\n",
    "                \n",
    "                stack.append( int(k) * substr  ) # 4\n",
    "        \n",
    "        return ''.join(stack) # stack elements will be joined together directly without any characters in between\n"
   ]
  }
 ],
 "metadata": {
  "kernelspec": {
   "display_name": "Python 3 (ipykernel)",
   "language": "python",
   "name": "python3"
  },
  "language_info": {
   "codemirror_mode": {
    "name": "ipython",
    "version": 3
   },
   "file_extension": ".py",
   "mimetype": "text/x-python",
   "name": "python",
   "nbconvert_exporter": "python",
   "pygments_lexer": "ipython3",
   "version": "3.9.13"
  }
 },
 "nbformat": 4,
 "nbformat_minor": 5
}
