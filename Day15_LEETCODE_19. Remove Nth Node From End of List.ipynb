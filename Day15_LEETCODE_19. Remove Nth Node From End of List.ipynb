{
 "cells": [
  {
   "cell_type": "code",
   "execution_count": null,
   "id": "418382db-5943-4449-b05c-260142807b3c",
   "metadata": {},
   "outputs": [],
   "source": [
    "# Definition for singly-linked list.\n",
    "# class ListNode:\n",
    "#     def __init__(self, val=0, next=None):\n",
    "#         self.val = val\n",
    "#         self.next = next\n",
    "class Solution:\n",
    "    def removeNthFromEnd(self, head: Optional[ListNode], n: int) -> Optional[ListNode]:\n",
    "        listlen=0 ; currentn=head        \n",
    "        # Checking length of linkedlist\n",
    "        while currentn:\n",
    "            listlen+=1\n",
    "            currentn=currentn.next      \n",
    "        current=head ; count=1 ; prevnode=current ; nextnode= current       \n",
    "        pos=listlen-n + 1 # Position of nth node from the end         \n",
    "               \n",
    "        if listlen ==1 and n==1:\n",
    "            return None\n",
    "        \n",
    "        elif listlen>1:\n",
    "            #Traversing the list till nth node from the end\n",
    "            while count <= pos:                \n",
    "                if count==pos-1: # To get the node before the nth node from the end\n",
    "                    prevnode=current\n",
    "                    current=current.next\n",
    "                    count+=1                               \n",
    "                elif count == pos: # When at nth node from the end\n",
    "                    if current== head: # If first node is to be removed\n",
    "                        head=current.next\n",
    "                    elif n ==listlen: # If last node is to be removed\n",
    "                        prevnode.next = None \n",
    "                    elif n!= listlen: # If node to be removed is not the last node\n",
    "                        nextnode= current.next                      \n",
    "                        current.next=None # Making node at nth position point to null\n",
    "                        prevnode.next = nextnode # Making node before nth node point to node after nth node\n",
    "                    count+=1                \n",
    "                else :\n",
    "                    current=current.next\n",
    "                    count+=1\n",
    "            return head\n",
    "\n"
   ]
  }
 ],
 "metadata": {
  "kernelspec": {
   "display_name": "Python 3 (ipykernel)",
   "language": "python",
   "name": "python3"
  },
  "language_info": {
   "codemirror_mode": {
    "name": "ipython",
    "version": 3
   },
   "file_extension": ".py",
   "mimetype": "text/x-python",
   "name": "python",
   "nbconvert_exporter": "python",
   "pygments_lexer": "ipython3",
   "version": "3.9.13"
  }
 },
 "nbformat": 4,
 "nbformat_minor": 5
}
