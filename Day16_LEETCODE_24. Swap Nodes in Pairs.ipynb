{
 "cells": [
  {
   "cell_type": "code",
   "execution_count": null,
   "id": "418382db-5943-4449-b05c-260142807b3c",
   "metadata": {},
   "outputs": [],
   "source": [
    "# Definition for singly-linked list.\n",
    "# class ListNode:\n",
    "#     def __init__(self, val=0, next=None):\n",
    "#         self.val = val\n",
    "#         self.next = next\n",
    "class Solution:\n",
    "    def swapPairs(self, head: Optional[ListNode]) -> Optional[ListNode]:\n",
    "        # Creating dummy node to act as the previous node for head node\n",
    "        dummy= ListNode(-1)\n",
    "        prevnode=dummy\n",
    "        current=head       \n",
    "\n",
    "        if current is None or current.next is None:\n",
    "            return head\n",
    "        # skipping in steps of 2, 2 nodes at a time\n",
    "        while current is not None and current.next is not None:                   \n",
    "    \n",
    "                    # swapping nodes\n",
    "                    nexteven=current.next       # for 2\n",
    "                    nextodd=current.next.next   # for 3 or null\n",
    "                    nexteven.next=current       # making 2 point to 1\n",
    "                    current.next=nextodd        # making 1 point to 3 or null\n",
    "                    prevnode.next= nexteven     # making previous node/head point to 2\n",
    "                    \n",
    "                    # updating previous and current node for next iteration\n",
    "                    prevnode=current            # 1 becomes prev node\n",
    "                    current=current.next        # 3 becomes current node\n",
    "                \n",
    "        return dummy.next"
   ]
  }
 ],
 "metadata": {
  "kernelspec": {
   "display_name": "Python 3 (ipykernel)",
   "language": "python",
   "name": "python3"
  },
  "language_info": {
   "codemirror_mode": {
    "name": "ipython",
    "version": 3
   },
   "file_extension": ".py",
   "mimetype": "text/x-python",
   "name": "python",
   "nbconvert_exporter": "python",
   "pygments_lexer": "ipython3",
   "version": "3.9.13"
  }
 },
 "nbformat": 4,
 "nbformat_minor": 5
}
