{
 "cells": [
  {
   "cell_type": "code",
   "execution_count": 14,
   "id": "2b76e377-52de-4968-8023-cd3f0250105e",
   "metadata": {},
   "outputs": [
    {
     "name": "stdout",
     "output_type": "stream",
     "text": [
      "<__main__.ListNode object at 0x000002B225677FD0>\n"
     ]
    }
   ],
   "source": [
    "# Definition for singly-linked list.\n",
    "class ListNode(object):\n",
    "     def __init__(self, x):\n",
    "         self.val = x\n",
    "         self.next = None\n",
    "\n",
    "class Solution(object):\n",
    "    def detectCycle(self, head):\n",
    "        \"\"\"\n",
    "        :type head: ListNode\n",
    "        :rtype: ListNode\n",
    "        \"\"\"\n",
    "        # Initializing an empty hash set\n",
    "        nodespresent= set()\n",
    "        node=head\n",
    "\n",
    "        while node is not None:\n",
    "            if node in nodespresent:\n",
    "                return node    \n",
    "            else:\n",
    "                nodespresent.add(node)  \n",
    "                node=node.next\n",
    "        return None\n",
    "\n",
    "# Creating the linked list [3, 2, 0, -4]\n",
    "node1 = ListNode(3)\n",
    "node2 = ListNode(2)\n",
    "node3 = ListNode(0)\n",
    "node4 = ListNode(-4)\n",
    "\n",
    "node1.next = node2\n",
    "node2.next = node3\n",
    "node3.next = node4\n",
    "node4.next = node2  # Creating a cycle by connecting the last node to the second node\n",
    "    \n",
    "solution = Solution()    \n",
    "result = solution.detectCycle(node1)\n",
    "print(result)"
   ]
  },
  {
   "cell_type": "code",
   "execution_count": null,
   "id": "a5700878-9a60-4505-a2ae-d94902899583",
   "metadata": {},
   "outputs": [],
   "source": []
  }
 ],
 "metadata": {
  "kernelspec": {
   "display_name": "Python 3 (ipykernel)",
   "language": "python",
   "name": "python3"
  },
  "language_info": {
   "codemirror_mode": {
    "name": "ipython",
    "version": 3
   },
   "file_extension": ".py",
   "mimetype": "text/x-python",
   "name": "python",
   "nbconvert_exporter": "python",
   "pygments_lexer": "ipython3",
   "version": "3.9.13"
  }
 },
 "nbformat": 4,
 "nbformat_minor": 5
}
