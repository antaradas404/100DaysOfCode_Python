{
 "cells": [
  {
   "cell_type": "code",
   "execution_count": 1,
   "id": "2b76e377-52de-4968-8023-cd3f0250105e",
   "metadata": {},
   "outputs": [
    {
     "data": {
      "text/plain": [
       "5"
      ]
     },
     "execution_count": 1,
     "metadata": {},
     "output_type": "execute_result"
    }
   ],
   "source": [
    "class Solution(object):\n",
    "    def removeDuplicates(self, nums):\n",
    "        \"\"\"\n",
    "        :type nums: List[int]\n",
    "        :rtype: int\n",
    "        \"\"\"\n",
    "        temp=[]\n",
    "        for i in range(0,len(nums)):       \n",
    "            if nums[i] in temp :\n",
    "                #replacing duplicate occurences with *\n",
    "                nums[i]='*'                       \n",
    "            else:\n",
    "                temp.append(nums[i])\n",
    "        charToDelete='*'\n",
    "        while charToDelete in nums:\n",
    "            #removing duplicate occurences in place\n",
    "            nums.remove(charToDelete)\n",
    "        return(len(nums))    \n",
    "\n",
    "solution = Solution()            \n",
    "solution.removeDuplicates([0,0,1,1,1,2,2,3,3,4])"
   ]
  },
  {
   "cell_type": "code",
   "execution_count": null,
   "id": "a5700878-9a60-4505-a2ae-d94902899583",
   "metadata": {},
   "outputs": [],
   "source": []
  }
 ],
 "metadata": {
  "kernelspec": {
   "display_name": "Python 3 (ipykernel)",
   "language": "python",
   "name": "python3"
  },
  "language_info": {
   "codemirror_mode": {
    "name": "ipython",
    "version": 3
   },
   "file_extension": ".py",
   "mimetype": "text/x-python",
   "name": "python",
   "nbconvert_exporter": "python",
   "pygments_lexer": "ipython3",
   "version": "3.9.13"
  }
 },
 "nbformat": 4,
 "nbformat_minor": 5
}
