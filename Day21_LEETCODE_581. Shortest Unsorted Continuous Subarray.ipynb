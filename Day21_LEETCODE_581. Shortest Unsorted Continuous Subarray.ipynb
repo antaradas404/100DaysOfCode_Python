{
 "cells": [
  {
   "cell_type": "code",
   "execution_count": null,
   "id": "418382db-5943-4449-b05c-260142807b3c",
   "metadata": {},
   "outputs": [],
   "source": [
    "class Solution:\n",
    "    def findUnsortedSubarray(self, nums: List[int]) -> int:\n",
    "        start, end =   0,0                # start and end index values for the subarray\n",
    "        i , j =        0 , len(nums)-1\n",
    "        max, min =     nums[i],nums[j]    # Setting first and last element of the array as max and min\n",
    "\n",
    "        # Using max and min to check which element is out of place, not in ascending order, \n",
    "        # and updating the start and end accordingly      \n",
    "\n",
    "        # Starting from left to right\n",
    "        while i < len(nums):\n",
    "            if nums[i]> max:     max=nums[i]\n",
    "            elif nums[i]< max:   end=i\n",
    "            i+=1\n",
    "        # Starting from right to left      \n",
    "        while j >= 0:\n",
    "            if nums[j] < min:    min=nums[j]\n",
    "            elif nums[j] > min:  start=j\n",
    "            j-=1                      \n",
    "\n",
    "        if end ==0 and start ==0: return 0 \n",
    "        else : return end-start+1\n"
   ]
  }
 ],
 "metadata": {
  "kernelspec": {
   "display_name": "Python 3 (ipykernel)",
   "language": "python",
   "name": "python3"
  },
  "language_info": {
   "codemirror_mode": {
    "name": "ipython",
    "version": 3
   },
   "file_extension": ".py",
   "mimetype": "text/x-python",
   "name": "python",
   "nbconvert_exporter": "python",
   "pygments_lexer": "ipython3",
   "version": "3.9.13"
  }
 },
 "nbformat": 4,
 "nbformat_minor": 5
}
