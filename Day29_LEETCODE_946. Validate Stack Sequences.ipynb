{
 "cells": [
  {
   "cell_type": "code",
   "execution_count": null,
   "id": "418382db-5943-4449-b05c-260142807b3c",
   "metadata": {},
   "outputs": [],
   "source": [
    "class Solution:\n",
    "    def validateStackSequences(self, pushed: List[int], popped: List[int]) -> bool:\n",
    "        \n",
    "        # 1. Iterate through Pushed array and push the elements into stack \n",
    "        # 2. Check if this last element pushed into stack is same as the first/ 0th element to be popped from Popped array\n",
    "        # 3. Keep popping till there is a match or untill there are no more elments to pop in Popped\n",
    "        # 4. If c = length of Popped then all elements can be pushed and popped on an empty stack\n",
    "        \n",
    "        stack=[]\n",
    "        c= 0 # To count number of elements popped\n",
    "        for i in pushed:\n",
    "            stack.append(i) #1\n",
    "            while stack and stack[-1]== popped[c] and c < len(popped) :  # 2, 3\n",
    "                stack.pop()\n",
    "                c+=1\n",
    "        return c == len(popped)\n"
   ]
  }
 ],
 "metadata": {
  "kernelspec": {
   "display_name": "Python 3 (ipykernel)",
   "language": "python",
   "name": "python3"
  },
  "language_info": {
   "codemirror_mode": {
    "name": "ipython",
    "version": 3
   },
   "file_extension": ".py",
   "mimetype": "text/x-python",
   "name": "python",
   "nbconvert_exporter": "python",
   "pygments_lexer": "ipython3",
   "version": "3.9.13"
  }
 },
 "nbformat": 4,
 "nbformat_minor": 5
}
