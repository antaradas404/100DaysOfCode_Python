{
 "cells": [
  {
   "cell_type": "code",
   "execution_count": null,
   "id": "418382db-5943-4449-b05c-260142807b3c",
   "metadata": {},
   "outputs": [],
   "source": [
    "# Definition for singly-linked list.\n",
    "# class ListNode:\n",
    "#     def __init__(self, val=0, next=None):\n",
    "#         self.val = val\n",
    "#         self.next = next\n",
    "class Solution:\n",
    "    def deleteDuplicatesUnsorted(self, head: ListNode) -> ListNode:\n",
    "        dict={}\n",
    "        current=head\n",
    "        if head is None or head.next is None:\n",
    "            return head\n",
    "        else:\n",
    "            while current is not None:\n",
    "                if current.val in dict:\n",
    "                    dict[current.val] =   dict[current.val] +1           \n",
    "                else:\n",
    "                    dict[current.val] =1\n",
    "                current=current.next\n",
    "            dummy=ListNode(0)\n",
    "            dummy.next=head\n",
    "            current=dummy\n",
    "\n",
    "            while current.next is not None:\n",
    "                if dict[current.next.val] > 1:  # If the value is duplicated, skip it\n",
    "                    current.next = current.next.next\n",
    "                else:\n",
    "                    current = current.next\n",
    "        \n",
    "            return dummy.next \n",
    "\n"
   ]
  }
 ],
 "metadata": {
  "kernelspec": {
   "display_name": "Python 3 (ipykernel)",
   "language": "python",
   "name": "python3"
  },
  "language_info": {
   "codemirror_mode": {
    "name": "ipython",
    "version": 3
   },
   "file_extension": ".py",
   "mimetype": "text/x-python",
   "name": "python",
   "nbconvert_exporter": "python",
   "pygments_lexer": "ipython3",
   "version": "3.9.13"
  }
 },
 "nbformat": 4,
 "nbformat_minor": 5
}
