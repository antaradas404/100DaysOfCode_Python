{
 "cells": [
  {
   "cell_type": "code",
   "execution_count": null,
   "id": "418382db-5943-4449-b05c-260142807b3c",
   "metadata": {},
   "outputs": [],
   "source": [
    "class Solution:\n",
    "    def maxArea(self, height: List[int]) -> int:\n",
    "        left=0\n",
    "        maxarea=0\n",
    "        right=len(height) -1\n",
    "        while left<right:\n",
    "            area= min(height[left], height[right]) * (right-left)  \n",
    "            if area > maxarea:\n",
    "                    maxarea= area\n",
    "            if height[left] < height[right]:\n",
    "                left +=1\n",
    "            else: right-=1 \n",
    "        return maxarea\n",
    "        "
   ]
  }
 ],
 "metadata": {
  "kernelspec": {
   "display_name": "Python 3 (ipykernel)",
   "language": "python",
   "name": "python3"
  },
  "language_info": {
   "codemirror_mode": {
    "name": "ipython",
    "version": 3
   },
   "file_extension": ".py",
   "mimetype": "text/x-python",
   "name": "python",
   "nbconvert_exporter": "python",
   "pygments_lexer": "ipython3",
   "version": "3.9.13"
  }
 },
 "nbformat": 4,
 "nbformat_minor": 5
}
