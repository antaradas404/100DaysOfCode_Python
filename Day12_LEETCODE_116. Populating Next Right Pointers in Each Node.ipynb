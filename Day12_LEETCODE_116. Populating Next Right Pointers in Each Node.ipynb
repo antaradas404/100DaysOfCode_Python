{
 "cells": [
  {
   "cell_type": "code",
   "execution_count": null,
   "id": "9e4d62b5-28b0-44de-816d-0dfe4b97a900",
   "metadata": {},
   "outputs": [],
   "source": [
    "\"\"\"\n",
    "# Definition for a Node.\n",
    "class Node(object):\n",
    "    def __init__(self, val=0, left=None, right=None, next=None):\n",
    "        self.val = val\n",
    "        self.left = left\n",
    "        self.right = right\n",
    "        self.next = next\n",
    "\"\"\"\n",
    "class Solution(object):\n",
    "    def connect(self, root):\n",
    "        \"\"\"\n",
    "        :type root: Node\n",
    "        :rtype: Node\n",
    "        \"\"\"   \n",
    "        self.root=root\n",
    "        current , Next= root,root.left  if root else None\n",
    "\n",
    "        #Breadth-First Search      \n",
    "\n",
    "        while current and Next:\n",
    "            #connnecting child nodes\n",
    "            current.left.next= current.right\n",
    "            #5-6 connection\n",
    "            if current.next:\n",
    "                current.right.next= current.next.left\n",
    "                 \n",
    "            current= current.next\n",
    "\n",
    "            if not current:\n",
    "                current= Next\n",
    "                Next= current.left\n",
    "\n",
    "        return root      \n"
   ]
  }
 ],
 "metadata": {
  "kernelspec": {
   "display_name": "Python 3 (ipykernel)",
   "language": "python",
   "name": "python3"
  },
  "language_info": {
   "codemirror_mode": {
    "name": "ipython",
    "version": 3
   },
   "file_extension": ".py",
   "mimetype": "text/x-python",
   "name": "python",
   "nbconvert_exporter": "python",
   "pygments_lexer": "ipython3",
   "version": "3.9.13"
  }
 },
 "nbformat": 4,
 "nbformat_minor": 5
}
