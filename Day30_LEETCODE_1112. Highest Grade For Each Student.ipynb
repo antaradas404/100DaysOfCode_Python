{
 "cells": [
  {
   "cell_type": "code",
   "execution_count": null,
   "id": "418382db-5943-4449-b05c-260142807b3c",
   "metadata": {},
   "outputs": [],
   "source": [
    "import pandas as pd\n",
    "\n",
    "def highest_grade(enrollments: pd.DataFrame) -> pd.DataFrame:\n",
    "    # Soring by student_id asc, grade desc , course_id asc  , in that order\n",
    "    # Performing group by on student_id & choosing 1st row of the group only\n",
    "    \n",
    "    result= enrollments.sort_values( by= [\"student_id\",\"grade\",\"course_id\"], ascending=[True,False,True]).groupby(\"student_id\").head(1).reset_index(drop=True)\n",
    "    \n",
    "    return result"
   ]
  }
 ],
 "metadata": {
  "kernelspec": {
   "display_name": "Python 3 (ipykernel)",
   "language": "python",
   "name": "python3"
  },
  "language_info": {
   "codemirror_mode": {
    "name": "ipython",
    "version": 3
   },
   "file_extension": ".py",
   "mimetype": "text/x-python",
   "name": "python",
   "nbconvert_exporter": "python",
   "pygments_lexer": "ipython3",
   "version": "3.9.13"
  }
 },
 "nbformat": 4,
 "nbformat_minor": 5
}
