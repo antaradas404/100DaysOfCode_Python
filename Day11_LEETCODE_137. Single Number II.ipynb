{
 "cells": [
  {
   "cell_type": "code",
   "execution_count": 1,
   "id": "e5745e2c-ac15-4908-9b4e-f70865a06126",
   "metadata": {},
   "outputs": [
    {
     "data": {
      "text/plain": [
       "99"
      ]
     },
     "execution_count": 1,
     "metadata": {},
     "output_type": "execute_result"
    }
   ],
   "source": [
    "class Solution(object):\n",
    "    def singleNumber(self, nums):\n",
    "        \"\"\"\n",
    "        :type nums: List[int]\n",
    "        :rtype: int\n",
    "        \"\"\"\n",
    "        dict = {}\n",
    "        for i in nums:\n",
    "            if i in dict:\n",
    "                dict[i]= dict[i]+1\n",
    "            else : dict[i]=1\n",
    "       \n",
    "        for i in dict:\n",
    "            if dict[i] < 3:\n",
    "                return i  \n",
    "            \n",
    "solution = Solution()            \n",
    "solution.singleNumber([0,1,0,1,0,1,99])"
   ]
  },
  {
   "cell_type": "code",
   "execution_count": null,
   "id": "00cc9003-fe5a-49e8-9d02-fadd4db1b2e3",
   "metadata": {},
   "outputs": [],
   "source": []
  }
 ],
 "metadata": {
  "kernelspec": {
   "display_name": "Python 3 (ipykernel)",
   "language": "python",
   "name": "python3"
  },
  "language_info": {
   "codemirror_mode": {
    "name": "ipython",
    "version": 3
   },
   "file_extension": ".py",
   "mimetype": "text/x-python",
   "name": "python",
   "nbconvert_exporter": "python",
   "pygments_lexer": "ipython3",
   "version": "3.9.13"
  }
 },
 "nbformat": 4,
 "nbformat_minor": 5
}
