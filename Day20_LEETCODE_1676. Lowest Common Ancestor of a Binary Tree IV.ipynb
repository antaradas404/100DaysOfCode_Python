{
 "cells": [
  {
   "cell_type": "code",
   "execution_count": null,
   "id": "418382db-5943-4449-b05c-260142807b3c",
   "metadata": {},
   "outputs": [],
   "source": [
    "# Definition for a binary tree node.\n",
    "# class TreeNode:\n",
    "#     def __init__(self, x):\n",
    "#         self.val = x\n",
    "#         self.left = None\n",
    "#         self.right = None\n",
    "\n",
    "class Solution:\n",
    "    def lowestCommonAncestor(self, root: 'TreeNode', nodes: 'List[TreeNode]') -> 'TreeNode':\n",
    "        nodesset=set(nodes)\n",
    "        s= {node.val for node in nodesset}\n",
    "        \n",
    "        # Depth First Search\n",
    "        def dfs_lcf(root):\n",
    "            if root is None or root.val in s:\n",
    "                return root\n",
    "            # If current node is not in nodesset, then check for its child nodes, recursively\n",
    "            left, right= dfs_lcf(root.left) , dfs_lcf(root.right)\n",
    "            # If both left and right side child nodes are in nodesset, return current node\n",
    "            if left and right:\n",
    "                return root\n",
    "            # Else return whichevr side child node is not none\n",
    "            return left or right\n",
    "\n",
    "        return dfs_lcf(root)"
   ]
  }
 ],
 "metadata": {
  "kernelspec": {
   "display_name": "Python 3 (ipykernel)",
   "language": "python",
   "name": "python3"
  },
  "language_info": {
   "codemirror_mode": {
    "name": "ipython",
    "version": 3
   },
   "file_extension": ".py",
   "mimetype": "text/x-python",
   "name": "python",
   "nbconvert_exporter": "python",
   "pygments_lexer": "ipython3",
   "version": "3.9.13"
  }
 },
 "nbformat": 4,
 "nbformat_minor": 5
}
