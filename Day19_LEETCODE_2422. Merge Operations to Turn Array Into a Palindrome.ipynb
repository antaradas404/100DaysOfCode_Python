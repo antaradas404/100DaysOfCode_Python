{
 "cells": [
  {
   "cell_type": "code",
   "execution_count": null,
   "id": "418382db-5943-4449-b05c-260142807b3c",
   "metadata": {},
   "outputs": [],
   "source": [
    "class Solution:\n",
    "    def minimumOperations(self, nums: List[int]) -> int:\n",
    "        l, r=0 , len(nums)-1 #left and r pointers\n",
    "        left, right= nums[l], nums[r] # left and right pointer values\n",
    "        count=0\n",
    "        # Traversing through the list \n",
    "        # Moving l or r pointers , whichever side has an element of lower value\n",
    "        # Avoided making updates in the array\n",
    "        while l <r:\n",
    "            if left> right:\n",
    "                r-=1 # moving right pointer by 1 position\n",
    "                right+= nums[r]\n",
    "                count+=1\n",
    "            elif  left < right:\n",
    "                l+=1 # moving left pointer by 1 position\n",
    "                left+= nums[l]\n",
    "                count+=1  \n",
    "            else:\n",
    "                l+=1\n",
    "                r-=1  \n",
    "                left, right= nums[l], nums[r]\n",
    "        return count\n",
    "\n"
   ]
  }
 ],
 "metadata": {
  "kernelspec": {
   "display_name": "Python 3 (ipykernel)",
   "language": "python",
   "name": "python3"
  },
  "language_info": {
   "codemirror_mode": {
    "name": "ipython",
    "version": 3
   },
   "file_extension": ".py",
   "mimetype": "text/x-python",
   "name": "python",
   "nbconvert_exporter": "python",
   "pygments_lexer": "ipython3",
   "version": "3.9.13"
  }
 },
 "nbformat": 4,
 "nbformat_minor": 5
}
