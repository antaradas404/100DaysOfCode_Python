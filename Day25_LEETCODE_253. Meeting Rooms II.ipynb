{
 "cells": [
  {
   "cell_type": "code",
   "execution_count": null,
   "id": "418382db-5943-4449-b05c-260142807b3c",
   "metadata": {},
   "outputs": [],
   "source": [
    "class Solution:\n",
    "    def minMeetingRooms(self, intervals: List[List[int]]) -> int:\n",
    "\n",
    "        starttimes= sorted([i[0] for i in intervals])\n",
    "        endtimes= sorted([i[1] for i in intervals])\n",
    "        print(starttimes, endtimes)\n",
    "        \n",
    "        startptr , endptr, minrooms= 0,0,0\n",
    "        meetingscount= len(intervals)\n",
    "        while meetingscount>0 :\n",
    "            if starttimes[startptr] < endtimes[endptr]:\n",
    "                minrooms+=1\n",
    "                startptr+=1\n",
    "            else:\n",
    "                startptr+=1\n",
    "                endptr+=1\n",
    "\n",
    "            meetingscount-=1\n",
    "        return minrooms"
   ]
  }
 ],
 "metadata": {
  "kernelspec": {
   "display_name": "Python 3 (ipykernel)",
   "language": "python",
   "name": "python3"
  },
  "language_info": {
   "codemirror_mode": {
    "name": "ipython",
    "version": 3
   },
   "file_extension": ".py",
   "mimetype": "text/x-python",
   "name": "python",
   "nbconvert_exporter": "python",
   "pygments_lexer": "ipython3",
   "version": "3.9.13"
  }
 },
 "nbformat": 4,
 "nbformat_minor": 5
}
