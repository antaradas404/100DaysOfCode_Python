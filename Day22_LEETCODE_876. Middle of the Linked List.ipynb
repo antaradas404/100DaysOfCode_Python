{
 "cells": [
  {
   "cell_type": "code",
   "execution_count": null,
   "id": "418382db-5943-4449-b05c-260142807b3c",
   "metadata": {},
   "outputs": [],
   "source": [
    "# Definition for singly-linked list.\n",
    "# class ListNode:\n",
    "#     def __init__(self, val=0, next=None):\n",
    "#         self.val = val\n",
    "#         self.next = next\n",
    "class Solution:\n",
    "    def middleNode(self, head: Optional[ListNode]) -> Optional[ListNode]:\n",
    "        listtemp = [head]\n",
    "        while listtemp[-1].next:\n",
    "            listtemp.append( listtemp[-1].next )\n",
    " \n",
    "        return listtemp [len(listtemp) // 2]"
   ]
  }
 ],
 "metadata": {
  "kernelspec": {
   "display_name": "Python 3 (ipykernel)",
   "language": "python",
   "name": "python3"
  },
  "language_info": {
   "codemirror_mode": {
    "name": "ipython",
    "version": 3
   },
   "file_extension": ".py",
   "mimetype": "text/x-python",
   "name": "python",
   "nbconvert_exporter": "python",
   "pygments_lexer": "ipython3",
   "version": "3.9.13"
  }
 },
 "nbformat": 4,
 "nbformat_minor": 5
}
